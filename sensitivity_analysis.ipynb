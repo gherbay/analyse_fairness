{
 "cells": [
  {
   "cell_type": "code",
   "execution_count": 1,
   "outputs": [],
   "source": [
    "import pandas as pd\n",
    "import numpy as np\n",
    "import math,copy,os\n",
    "from sklearn.linear_model import LogisticRegression\n",
    "from sklearn.ensemble import RandomForestClassifier\n",
    "from sklearn.svm import SVC\n",
    "from sklearn.model_selection import train_test_split\n",
    "from sklearn.preprocessing import MinMaxScaler\n",
    "from sklearn.neural_network import MLPClassifier\n",
    "from pathlib import Path\n",
    "from Measure import measure_final_score\n",
    "import statistics\n",
    "from CatEncoder import *\n",
    "import glob\n",
    "import pickle"
   ],
   "metadata": {
    "collapsed": false,
    "pycharm": {
     "name": "#%%\n"
    }
   }
  },
  {
   "cell_type": "code",
   "execution_count": 2,
   "outputs": [
    {
     "name": "stdout",
     "output_type": "stream",
     "text": [
      "    PA model  recall  accuracy  precision   eod   SPD                 name\n",
      "0  sex    LR    0.52      0.84       0.75  0.06  0.15  sex_recover10_1.csv\n",
      "1  sex    RF    0.54      0.83       0.72  0.05  0.13  sex_recover10_1.csv\n",
      "2  sex   SVC    0.49      0.84       0.79  0.05  0.11  sex_recover10_1.csv\n",
      "3  sex  MLPC    0.56      0.85       0.77  0.05  0.13  sex_recover10_1.csv\n",
      "0  sex    LR    0.52      0.84       0.75  0.06  0.15  sex_recover10_2.csv\n",
      "1  sex    RF    0.54      0.83       0.72  0.07  0.13  sex_recover10_2.csv\n",
      "2  sex   SVC    0.50      0.84       0.79  0.06  0.11  sex_recover10_2.csv\n",
      "3  sex  MLPC    0.57      0.85       0.76  0.06  0.14  sex_recover10_2.csv\n",
      "0  sex    LR    0.52      0.84       0.75  0.05  0.15  sex_recover10_3.csv\n",
      "1  sex    RF    0.56      0.84       0.73  0.04  0.14  sex_recover10_3.csv\n",
      "2  sex   SVC    0.50      0.84       0.78  0.05  0.11  sex_recover10_3.csv\n",
      "3  sex  MLPC    0.49      0.84       0.79  0.05  0.11  sex_recover10_3.csv\n",
      "0  sex    LR    0.52      0.84       0.75  0.05  0.15  sex_recover10_4.csv\n",
      "1  sex    RF    0.55      0.83       0.72  0.04  0.14  sex_recover10_4.csv\n",
      "2  sex   SVC    0.51      0.84       0.78  0.05  0.12  sex_recover10_4.csv\n",
      "3  sex  MLPC    0.50      0.84       0.79  0.04  0.12  sex_recover10_4.csv\n",
      "0  sex    LR    0.52      0.84       0.75  0.06  0.15  sex_recover10_5.csv\n",
      "1  sex    RF    0.55      0.83       0.72  0.04  0.14  sex_recover10_5.csv\n",
      "2  sex   SVC    0.51      0.84       0.78  0.06  0.12  sex_recover10_5.csv\n",
      "3  sex  MLPC    0.49      0.84       0.80  0.08  0.10  sex_recover10_5.csv\n"
     ]
    }
   ],
   "source": [
    "def get_results():\n",
    "    path = r'/Users/germainherbay/PycharmProjects/Blind/adult/score/directed/sex_recover/10/' # use your path\n",
    "    all_files = glob.glob(path + \"/*.csv\")\n",
    "    first_df = pd.read_csv(all_files[0])\n",
    "    first_df['name'] = Path(all_files[0]).name\n",
    "    for filename in all_files[1:]:\n",
    "        df = pd.read_csv(filename)\n",
    "        df['name'] = Path(filename).name\n",
    "        first_df = first_df.append(df)\n",
    "    first_df['model'] = first_df['model'].replace(['LogisticRegression()','RandomForestClassifier()', 'SVC()', 'MLPClassifier()'],['LR','RF','SVC', 'MLPC'])\n",
    "    first_df.rename(columns = {'protected_att':'PA'}, inplace = True)\n",
    "    return first_df\n",
    "\n",
    "a=get_results()\n",
    "print(a)"
   ],
   "metadata": {
    "collapsed": false,
    "pycharm": {
     "name": "#%%\n"
    }
   }
  }
 ],
 "metadata": {
  "kernelspec": {
   "display_name": "Python 3",
   "language": "python",
   "name": "python3"
  },
  "language_info": {
   "codemirror_mode": {
    "name": "ipython",
    "version": 2
   },
   "file_extension": ".py",
   "mimetype": "text/x-python",
   "name": "python",
   "nbconvert_exporter": "python",
   "pygments_lexer": "ipython2",
   "version": "2.7.6"
  }
 },
 "nbformat": 4,
 "nbformat_minor": 0
}