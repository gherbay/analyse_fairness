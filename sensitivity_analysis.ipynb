{
 "cells": [
  {
   "cell_type": "code",
   "execution_count": 51,
   "metadata": {
    "collapsed": true
   },
   "outputs": [],
   "source": [
    "import pandas as pd\n",
    "import numpy as np\n",
    "import math,copy,os\n",
    "from sklearn.linear_model import LogisticRegression\n",
    "from sklearn.ensemble import RandomForestClassifier\n",
    "from sklearn.svm import SVC\n",
    "from sklearn.model_selection import train_test_split\n",
    "from sklearn.preprocessing import MinMaxScaler\n",
    "from sklearn.neural_network import MLPClassifier\n",
    "from pathlib import Path\n",
    "from Measure import measure_final_score\n",
    "import statistics\n",
    "from CatEncoder import *\n",
    "import glob\n",
    "import pickle"
   ]
  },
  {
   "cell_type": "code",
   "execution_count": 52,
   "outputs": [],
   "source": [
    "def get_results(mut_op, selection, path_name):\n",
    "    path = r'/Users/germainherbay/PycharmProjects/Blind/adult/score/blind/'+mut_op+'/'+selection+'/'+path_name+'/' # use your path\n",
    "    all_files = glob.glob(path + \"/*.csv\")\n",
    "    first_df = pd.read_csv(all_files[0])\n",
    "    first_df['name'] = Path(all_files[0]).name\n",
    "    first_df['operator'] = path_name\n",
    "    first_df['mutation'] = mut_op+\"_\"+selection\n",
    "    for filename in all_files[1:]:\n",
    "        df = pd.read_csv(filename)\n",
    "        df['name'] = Path(filename).name\n",
    "        df['operator'] = path_name\n",
    "        df['mutation'] = mut_op+\"_\"+selection\n",
    "        first_df = first_df.append(df)\n",
    "    first_df['model'] = first_df['model'].replace(['LogisticRegression()','RandomForestClassifier()', 'SVC()', 'MLPClassifier()'],['LR','RF','SVC', 'MLPC'])\n",
    "    first_df.rename(columns = {'protected_att':'PA'}, inplace = True)\n",
    "    return first_df\n",
    "\n",
    "operators = ['age', 'capital-gain', 'capital-loss', 'education-num',\n",
    "             'hours-per-week', 'marital-status', 'native-country', 'occupation',\n",
    "             'race', 'relationship', 'sex', 'workclass']\n",
    "\n",
    "def get_all_results(mut_op, operators, selection):\n",
    "    df_1 = get_results(mut_op, selection, operators[0])\n",
    "    for operator in operators[1:]:\n",
    "        df = get_results(mut_op, selection, operator)\n",
    "        df_1 = df_1.append(df)\n",
    "    return df_1\n",
    "\n",
    "df_cl_0_5 = get_all_results(\"change_label\", operators, \"0_5\")\n",
    "df_cl_1 = get_all_results(\"change_label\", operators, \"1\")\n",
    "df_cl_1_5 = get_all_results(\"change_label\", operators, \"1_5\")\n",
    "df_cl_2 = get_all_results(\"change_label\", operators, \"2\")\n",
    "\n",
    "df_sh_0_5 = get_all_results(\"shuffle\", operators, \"0_5\")\n",
    "df_sh_1 = get_all_results(\"shuffle\", operators, \"1\")\n",
    "df_sh_1_5 = get_all_results(\"shuffle\", operators, \"1_5\")\n",
    "df_sh_2 = get_all_results(\"shuffle\", operators, \"2\")\n",
    "\n",
    "df = df_cl_1.append(df_cl_0_5)\n",
    "df = df_cl_1_5.append(df)\n",
    "df = df_cl_2.append(df)\n",
    "df = df_sh_0_5.append(df)\n",
    "df = df_sh_1.append(df)\n",
    "df = df_sh_1_5.append(df)\n",
    "df = df_sh_2.append(df)\n"
   ],
   "metadata": {
    "collapsed": false,
    "pycharm": {
     "name": "#%%\n"
    }
   }
  },
  {
   "cell_type": "markdown",
   "source": [
    "1.1 Analyse eod (sex) sentivity"
   ],
   "metadata": {
    "collapsed": false,
    "pycharm": {
     "name": "#%% md\n"
    }
   }
  },
  {
   "cell_type": "code",
   "execution_count": 53,
   "outputs": [
    {
     "data": {
      "text/plain": "[Text(0, 0, 'LR'), Text(1, 0, 'RF'), Text(2, 0, 'SVC'), Text(3, 0, 'MLPC')]"
     },
     "execution_count": 53,
     "metadata": {},
     "output_type": "execute_result"
    },
    {
     "data": {
      "text/plain": "<Figure size 432x288 with 1 Axes>",
      "image/png": "[encoded data removed]"
     },
     "metadata": {},
     "output_type": "display_data"
    }
   ],
   "source": [
    "df_sex = df[df[\"PA\"] == \"sex\"]\n",
    "import seaborn as sns\n",
    "sns.set_theme(style=\"whitegrid\")\n",
    "ax = sns.boxplot(x=\"model\", y=\"eod\", data=df_sex, palette=\"Set3\")\n",
    "ax.set_xticklabels(ax.get_xticklabels(),rotation = (90))"
   ],
   "metadata": {
    "collapsed": false,
    "pycharm": {
     "name": "#%%\n"
    }
   }
  },
  {
   "cell_type": "markdown",
   "source": [
    "1.3 Analyse SPD (sex) sentivity"
   ],
   "metadata": {
    "collapsed": false
   }
  },
  {
   "cell_type": "code",
   "execution_count": 54,
   "outputs": [
    {
     "data": {
      "text/plain": "[Text(0, 0, 'LR'), Text(1, 0, 'RF'), Text(2, 0, 'SVC'), Text(3, 0, 'MLPC')]"
     },
     "execution_count": 54,
     "metadata": {},
     "output_type": "execute_result"
    },
    {
     "data": {
      "text/plain": "<Figure size 432x288 with 1 Axes>",
      "image/png": "[encoded data removed]"
     },
     "metadata": {},
     "output_type": "display_data"
    }
   ],
   "source": [
    "df_sex = df[df[\"PA\"] == \"sex\"]\n",
    "import seaborn as sns\n",
    "sns.set_theme(style=\"whitegrid\")\n",
    "ax = sns.boxplot(x=\"model\", y=\"SPD\", data=df_sex, palette=\"Set3\")\n",
    "ax.set_xticklabels(ax.get_xticklabels(),rotation = (90))\n",
    "\n"
   ],
   "metadata": {
    "collapsed": false,
    "pycharm": {
     "name": "#%%\n"
    }
   }
  },
  {
   "cell_type": "markdown",
   "source": [
    "Sensitivity scores"
   ],
   "metadata": {
    "collapsed": false
   }
  },
  {
   "cell_type": "code",
   "execution_count": 55,
   "outputs": [
    {
     "name": "stdout",
     "output_type": "stream",
     "text": [
      "         eod                       SPD                   \n",
      "        mean  amin  amax    std   mean  amin  amax    std\n",
      "model                                                    \n",
      "LR     0.304  0.22  0.38  0.023  0.186  0.15  0.20  0.008\n",
      "MLPC   0.127  0.02  0.25  0.036  0.188  0.14  0.27  0.018\n",
      "RF     0.033  0.00  0.08  0.013  0.174  0.16  0.19  0.005\n",
      "SVC    0.165  0.14  0.21  0.011  0.182  0.17  0.19  0.005\n"
     ]
    },
    {
     "name": "stderr",
     "output_type": "stream",
     "text": [
      "/Users/germainherbay/Documents/GitHub/TIA/Interface/venv/lib/python3.6/site-packages/ipykernel_launcher.py:1: FutureWarning: Indexing with multiple keys (implicitly converted to a tuple of keys) will be deprecated, use a list instead.\n",
      "  \"\"\"Entry point for launching an IPython kernel.\n"
     ]
    }
   ],
   "source": [
    "df_sens_sex = df_sex.groupby(\"model\")[\"eod\", \"SPD\"].agg([np.mean, np.min, np.max, np.std])\n",
    "print(np.round(df_sens_sex, 3))"
   ],
   "metadata": {
    "collapsed": false,
    "pycharm": {
     "name": "#%%\n"
    }
   }
  },
  {
   "cell_type": "markdown",
   "source": [
    "Min eod LR"
   ],
   "metadata": {
    "collapsed": false
   }
  },
  {
   "cell_type": "code",
   "execution_count": 56,
   "outputs": [
    {
     "name": "stdout",
     "output_type": "stream",
     "text": [
      "    PA model  recall  accuracy  precision   eod   SPD                name  \\\n",
      "0  sex    LR    0.38      0.81       0.71  0.22  0.15  education-num4.csv   \n",
      "0  sex    LR    0.38      0.81       0.71  0.22  0.15  education-num2.csv   \n",
      "\n",
      "        operator        mutation  \n",
      "0  education-num  change_label_2  \n",
      "0  education-num  change_label_2  \n"
     ]
    }
   ],
   "source": [
    "a = df_sex[(df_sex[\"model\"] == \"LR\") & (df_sex[\"eod\"] == 0.22)]\n",
    "print(a)\n",
    "\n"
   ],
   "metadata": {
    "collapsed": false,
    "pycharm": {
     "name": "#%%\n"
    }
   }
  },
  {
   "cell_type": "markdown",
   "source": [
    "Min eod RF"
   ],
   "metadata": {
    "collapsed": false
   }
  },
  {
   "cell_type": "code",
   "execution_count": 57,
   "outputs": [
    {
     "name": "stdout",
     "output_type": "stream",
     "text": [
      "    PA model  recall  accuracy  precision  eod   SPD             name  \\\n",
      "1  sex    RF    0.60      0.83       0.69  0.0  0.17        race2.csv   \n",
      "1  sex    RF    0.62      0.84       0.69  0.0  0.17  occupation1.csv   \n",
      "\n",
      "     operator        mutation  \n",
      "1        race  change_label_2  \n",
      "1  occupation  change_label_1  \n"
     ]
    }
   ],
   "source": [
    "a = df_sex[(df_sex[\"model\"] == \"RF\") & (df_sex[\"eod\"] == 0)]\n",
    "print(a)\n"
   ],
   "metadata": {
    "collapsed": false,
    "pycharm": {
     "name": "#%%\n"
    }
   }
  },
  {
   "cell_type": "markdown",
   "source": [
    "Min SPD RF"
   ],
   "metadata": {
    "collapsed": false
   }
  },
  {
   "cell_type": "code",
   "execution_count": 58,
   "outputs": [
    {
     "name": "stdout",
     "output_type": "stream",
     "text": [
      "    PA model  recall  accuracy  precision   eod   SPD               name  \\\n",
      "1  sex    RF    0.61      0.84       0.69  0.02  0.16     workclass0.csv   \n",
      "1  sex    RF    0.61      0.84       0.69  0.03  0.16    occupation3.csv   \n",
      "1  sex    RF    0.57      0.82       0.67  0.02  0.16  capital-gain2.csv   \n",
      "1  sex    RF    0.61      0.84       0.69  0.01  0.16           sex1.csv   \n",
      "\n",
      "       operator        mutation  \n",
      "1     workclass       shuffle_2  \n",
      "1    occupation     shuffle_0_5  \n",
      "1  capital-gain  change_label_2  \n",
      "1           sex  change_label_1  \n"
     ]
    }
   ],
   "source": [
    "a = df_sex[(df_sex[\"model\"] == \"RF\") & (df_sex[\"SPD\"] == 0.16)]\n",
    "print(a)\n"
   ],
   "metadata": {
    "collapsed": false,
    "pycharm": {
     "name": "#%%\n"
    }
   }
  },
  {
   "cell_type": "markdown",
   "source": [
    "Min eod SVC"
   ],
   "metadata": {
    "collapsed": false
   }
  },
  {
   "cell_type": "code",
   "execution_count": 59,
   "outputs": [
    {
     "name": "stdout",
     "output_type": "stream",
     "text": [
      "    PA model  recall  accuracy  precision   eod   SPD      name operator  \\\n",
      "2  sex   SVC    0.56      0.84       0.75  0.14  0.18  sex1.csv      sex   \n",
      "2  sex   SVC    0.56      0.84       0.74  0.14  0.18  sex2.csv      sex   \n",
      "2  sex   SVC    0.56      0.84       0.74  0.14  0.18  sex0.csv      sex   \n",
      "2  sex   SVC    0.56      0.84       0.74  0.14  0.18  sex1.csv      sex   \n",
      "\n",
      "           mutation  \n",
      "2       shuffle_1_5  \n",
      "2  change_label_1_5  \n",
      "2    change_label_1  \n",
      "2  change_label_0_5  \n"
     ]
    }
   ],
   "source": [
    "a = df_sex[(df_sex[\"model\"] == \"SVC\") & (df_sex[\"eod\"] == 0.14)]\n",
    "print(a)"
   ],
   "metadata": {
    "collapsed": false,
    "pycharm": {
     "name": "#%%\n"
    }
   }
  },
  {
   "cell_type": "markdown",
   "source": [
    "Min SPD SVC"
   ],
   "metadata": {
    "collapsed": false
   }
  },
  {
   "cell_type": "code",
   "execution_count": 60,
   "outputs": [
    {
     "name": "stdout",
     "output_type": "stream",
     "text": [
      "    PA model  recall  accuracy  precision   eod   SPD                name  \\\n",
      "2  sex   SVC    0.53      0.84       0.76  0.16  0.17  education-num4.csv   \n",
      "2  sex   SVC    0.53      0.84       0.76  0.16  0.17  education-num2.csv   \n",
      "2  sex   SVC    0.53      0.84       0.75  0.15  0.17  education-num2.csv   \n",
      "2  sex   SVC    0.50      0.83       0.73  0.19  0.17   capital-gain0.csv   \n",
      "2  sex   SVC    0.50      0.83       0.73  0.19  0.17   capital-gain1.csv   \n",
      "2  sex   SVC    0.50      0.83       0.73  0.19  0.17   capital-gain3.csv   \n",
      "2  sex   SVC    0.50      0.83       0.73  0.19  0.17   capital-gain2.csv   \n",
      "2  sex   SVC    0.50      0.83       0.73  0.19  0.17   capital-gain4.csv   \n",
      "2  sex   SVC    0.53      0.84       0.77  0.16  0.17   capital-loss3.csv   \n",
      "2  sex   SVC    0.53      0.84       0.77  0.15  0.17   capital-loss2.csv   \n",
      "2  sex   SVC    0.53      0.84       0.77  0.16  0.17   capital-loss0.csv   \n",
      "2  sex   SVC    0.53      0.84       0.77  0.15  0.17   capital-loss1.csv   \n",
      "2  sex   SVC    0.53      0.84       0.77  0.15  0.17   capital-loss4.csv   \n",
      "2  sex   SVC    0.51      0.84       0.76  0.17  0.17  education-num4.csv   \n",
      "2  sex   SVC    0.51      0.84       0.76  0.17  0.17  education-num0.csv   \n",
      "2  sex   SVC    0.51      0.84       0.76  0.17  0.17  education-num1.csv   \n",
      "2  sex   SVC    0.51      0.84       0.76  0.18  0.17  education-num3.csv   \n",
      "2  sex   SVC    0.49      0.84       0.76  0.17  0.17  education-num2.csv   \n",
      "2  sex   SVC    0.50      0.83       0.73  0.19  0.17   capital-gain0.csv   \n",
      "2  sex   SVC    0.53      0.84       0.77  0.16  0.17   capital-loss3.csv   \n",
      "2  sex   SVC    0.53      0.84       0.77  0.15  0.17   capital-loss2.csv   \n",
      "2  sex   SVC    0.53      0.84       0.77  0.15  0.17   capital-loss0.csv   \n",
      "2  sex   SVC    0.53      0.84       0.77  0.15  0.17   capital-loss1.csv   \n",
      "2  sex   SVC    0.53      0.84       0.77  0.15  0.17   capital-loss4.csv   \n",
      "2  sex   SVC    0.52      0.84       0.75  0.16  0.17  education-num1.csv   \n",
      "2  sex   SVC    0.53      0.84       0.77  0.15  0.17   capital-loss3.csv   \n",
      "2  sex   SVC    0.53      0.84       0.77  0.16  0.17   capital-loss2.csv   \n",
      "2  sex   SVC    0.53      0.85       0.77  0.16  0.17   capital-loss0.csv   \n",
      "2  sex   SVC    0.53      0.85       0.77  0.16  0.17   capital-loss1.csv   \n",
      "2  sex   SVC    0.53      0.84       0.77  0.15  0.17   capital-loss4.csv   \n",
      "2  sex   SVC    0.54      0.85       0.77  0.16  0.17   capital-loss3.csv   \n",
      "2  sex   SVC    0.54      0.85       0.77  0.16  0.17   capital-loss2.csv   \n",
      "2  sex   SVC    0.54      0.84       0.77  0.15  0.17   capital-loss0.csv   \n",
      "2  sex   SVC    0.53      0.84       0.77  0.15  0.17   capital-loss1.csv   \n",
      "2  sex   SVC    0.54      0.85       0.77  0.17  0.17   capital-loss4.csv   \n",
      "\n",
      "        operator          mutation  \n",
      "2  education-num         shuffle_2  \n",
      "2  education-num         shuffle_2  \n",
      "2  education-num       shuffle_1_5  \n",
      "2   capital-gain    change_label_2  \n",
      "2   capital-gain    change_label_2  \n",
      "2   capital-gain    change_label_2  \n",
      "2   capital-gain    change_label_2  \n",
      "2   capital-gain    change_label_2  \n",
      "2   capital-loss    change_label_2  \n",
      "2   capital-loss    change_label_2  \n",
      "2   capital-loss    change_label_2  \n",
      "2   capital-loss    change_label_2  \n",
      "2   capital-loss    change_label_2  \n",
      "2  education-num    change_label_2  \n",
      "2  education-num    change_label_2  \n",
      "2  education-num    change_label_2  \n",
      "2  education-num    change_label_2  \n",
      "2  education-num    change_label_2  \n",
      "2   capital-gain  change_label_1_5  \n",
      "2   capital-loss  change_label_1_5  \n",
      "2   capital-loss  change_label_1_5  \n",
      "2   capital-loss  change_label_1_5  \n",
      "2   capital-loss  change_label_1_5  \n",
      "2   capital-loss  change_label_1_5  \n",
      "2  education-num  change_label_1_5  \n",
      "2   capital-loss    change_label_1  \n",
      "2   capital-loss    change_label_1  \n",
      "2   capital-loss    change_label_1  \n",
      "2   capital-loss    change_label_1  \n",
      "2   capital-loss    change_label_1  \n",
      "2   capital-loss  change_label_0_5  \n",
      "2   capital-loss  change_label_0_5  \n",
      "2   capital-loss  change_label_0_5  \n",
      "2   capital-loss  change_label_0_5  \n",
      "2   capital-loss  change_label_0_5  \n"
     ]
    }
   ],
   "source": [
    "a = df_sex[(df_sex[\"model\"] == \"SVC\") & (df_sex[\"SPD\"] == 0.17)]\n",
    "print(a)\n"
   ],
   "metadata": {
    "collapsed": false,
    "pycharm": {
     "name": "#%%\n"
    }
   }
  },
  {
   "cell_type": "markdown",
   "source": [
    "Min eod MLPC"
   ],
   "metadata": {
    "collapsed": false
   }
  },
  {
   "cell_type": "code",
   "execution_count": 61,
   "outputs": [
    {
     "name": "stdout",
     "output_type": "stream",
     "text": [
      "    PA model  recall  accuracy  precision   eod   SPD                 name  \\\n",
      "3  sex  MLPC    0.55      0.84       0.75  0.02  0.14    capital-loss3.csv   \n",
      "3  sex  MLPC    0.61      0.84       0.71  0.02  0.16  hours-per-week2.csv   \n",
      "\n",
      "         operator        mutation  \n",
      "3    capital-loss  change_label_2  \n",
      "3  hours-per-week  change_label_1  \n"
     ]
    }
   ],
   "source": [
    "a = df_sex[(df_sex[\"model\"] == \"MLPC\") & (df_sex[\"eod\"] == 0.02)]\n",
    "print(a)"
   ],
   "metadata": {
    "collapsed": false,
    "pycharm": {
     "name": "#%%\n"
    }
   }
  },
  {
   "cell_type": "markdown",
   "source": [
    "Min SPD MLPC"
   ],
   "metadata": {
    "collapsed": false
   }
  },
  {
   "cell_type": "code",
   "execution_count": 62,
   "outputs": [
    {
     "name": "stdout",
     "output_type": "stream",
     "text": [
      "    PA model  recall  accuracy  precision   eod   SPD                name  \\\n",
      "3  sex  MLPC    0.55      0.84       0.75  0.02  0.14   capital-loss3.csv   \n",
      "3  sex  MLPC    0.53      0.84       0.76  0.05  0.14  education-num1.csv   \n",
      "3  sex  MLPC    0.53      0.84       0.75  0.08  0.14   capital-gain0.csv   \n",
      "3  sex  MLPC    0.53      0.84       0.76  0.04  0.14   relationship4.csv   \n",
      "\n",
      "        operator          mutation  \n",
      "3   capital-loss    change_label_2  \n",
      "3  education-num    change_label_2  \n",
      "3   capital-gain  change_label_1_5  \n",
      "3   relationship  change_label_1_5  \n"
     ]
    }
   ],
   "source": [
    "a = df_sex[(df_sex[\"model\"] == \"MLPC\") & (df_sex[\"SPD\"] == 0.14)]\n",
    "print(a)"
   ],
   "metadata": {
    "collapsed": false,
    "pycharm": {
     "name": "#%%\n"
    }
   }
  },
  {
   "cell_type": "markdown",
   "source": [
    "EOD analysis"
   ],
   "metadata": {
    "collapsed": false
   }
  },
  {
   "cell_type": "code",
   "execution_count": 63,
   "outputs": [],
   "source": [
    "import pandas as pd\n",
    "\n",
    "data=[[\"LR\",\"recall\",-9],[\"LR\",\"accuracy\",-1],[\"LR\",\"precision\",0],[\"LR\",\"EOD\",-8],[\"LR\",\"SPD\",-4],\n",
    "      [\"RF\",\"recall\",-1],[\"RF\",\"accuracy\",-1],[\"RF\",\"precision\",0],[\"RF\",\"EOD\",-2],[\"RF\",\"SPD\",0],\n",
    "      [\"SVC\",\"recall\",0],[\"SVC\",\"accuracy\",0],[\"SVC\",\"precision\",-1],[\"SVC\",\"EOD\",-2],[\"SVC\",\"SPD\",0],\n",
    "      [\"MLPC\",\"recall\",-6],[\"MLPC\",\"accuracy\",0],[\"MLPC\",\"precision\",-3],[\"MLPC\",\"EOD\",-11],[\"MLPC\",\"SPD\",-5]\n",
    "      ]\n",
    "df = pd.DataFrame(data=data, columns=[\"model\", \"metric\", \"Impact of EOD improvement(%)\"])"
   ],
   "metadata": {
    "collapsed": false,
    "pycharm": {
     "name": "#%%\n"
    }
   }
  },
  {
   "cell_type": "code",
   "execution_count": 64,
   "outputs": [
    {
     "data": {
      "text/plain": "<matplotlib.lines.Line2D at 0x1308342b0>"
     },
     "execution_count": 64,
     "metadata": {},
     "output_type": "execute_result"
    },
    {
     "data": {
      "text/plain": "<Figure size 432x288 with 1 Axes>",
      "image/png": "[encoded data removed]"
     },
     "metadata": {},
     "output_type": "display_data"
    }
   ],
   "source": [
    "import seaborn as sns\n",
    "sns.set_theme(style=\"whitegrid\")\n",
    "ax = sns.barplot(data=df, x=\"model\", y=\"Impact of EOD improvement(%)\", hue=\"metric\")\n",
    "ax.axhline(0, color='red', ls='-')"
   ],
   "metadata": {
    "collapsed": false,
    "pycharm": {
     "name": "#%%\n"
    }
   }
  },
  {
   "cell_type": "code",
   "execution_count": 65,
   "outputs": [
    {
     "data": {
      "text/plain": "<Figure size 864x216 with 4 Axes>",
      "image/png": "[encoded data removed]"
     },
     "metadata": {},
     "output_type": "display_data"
    }
   ],
   "source": [
    "import seaborn as sns\n",
    "sns.set_theme(style=\"whitegrid\")\n",
    "ax = sns.FacetGrid(df, col=\"model\", hue=\"metric\")\n",
    "ax = ax.map_dataframe(sns.barplot, x=\"metric\", y=\"Impact of EOD improvement(%)\")\n"
   ],
   "metadata": {
    "collapsed": false,
    "pycharm": {
     "name": "#%%\n"
    }
   }
  },
  {
   "cell_type": "markdown",
   "source": [
    "SPD analysis"
   ],
   "metadata": {
    "collapsed": false
   }
  },
  {
   "cell_type": "code",
   "execution_count": 66,
   "outputs": [],
   "source": [
    "import pandas as pd\n",
    "\n",
    "data=[[\"LR\",\"recall\",-9],[\"LR\",\"accuracy\",-1],[\"LR\",\"precision\",0],[\"LR\",\"EOD\",-8],[\"LR\",\"SPD\",-4],\n",
    "      [\"RF\",\"recall\",0],[\"RF\",\"accuracy\",0],[\"RF\",\"precision\",0],[\"RF\",\"EOD\",0],[\"RF\",\"SPD\",-1],\n",
    "      [\"SVC\",\"recall\",-3],[\"SVC\",\"accuracy\",0],[\"SVC\",\"precision\",1],[\"SVC\",\"EOD\",0],[\"SVC\",\"SPD\",-1],\n",
    "      [\"MLPC\",\"recall\",-6],[\"MLPC\",\"accuracy\",0],[\"MLPC\",\"precision\",-3],[\"MLPC\",\"EOD\",-11],[\"MLPC\",\"SPD\",-5]\n",
    "      ]\n",
    "df = pd.DataFrame(data=data, columns=[\"model\", \"metric\", \"Impact of SPD improvement(%)\"])"
   ],
   "metadata": {
    "collapsed": false,
    "pycharm": {
     "name": "#%%\n"
    }
   }
  },
  {
   "cell_type": "code",
   "execution_count": 67,
   "outputs": [
    {
     "data": {
      "text/plain": "<matplotlib.lines.Line2D at 0x12ea56390>"
     },
     "execution_count": 67,
     "metadata": {},
     "output_type": "execute_result"
    },
    {
     "data": {
      "text/plain": "<Figure size 432x288 with 1 Axes>",
      "image/png": "[encoded data removed]"
     },
     "metadata": {},
     "output_type": "display_data"
    }
   ],
   "source": [
    "import seaborn as sns\n",
    "sns.set_theme(style=\"whitegrid\")\n",
    "ax = sns.barplot(data=df, x=\"model\", y=\"Impact of SPD improvement(%)\", hue=\"metric\")\n",
    "ax.axhline(0, color='red', ls='-')"
   ],
   "metadata": {
    "collapsed": false,
    "pycharm": {
     "name": "#%%\n"
    }
   }
  }
 ],
 "metadata": {
  "kernelspec": {
   "display_name": "Python 3",
   "language": "python",
   "name": "python3"
  },
  "language_info": {
   "codemirror_mode": {
    "name": "ipython",
    "version": 2
   },
   "file_extension": ".py",
   "mimetype": "text/x-python",
   "name": "python",
   "nbconvert_exporter": "python",
   "pygments_lexer": "ipython2",
   "version": "2.7.6"
  }
 },
 "nbformat": 4,
 "nbformat_minor": 0
}