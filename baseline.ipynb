{
 "cells": [
  {
   "cell_type": "code",
   "execution_count": 1,
   "metadata": {
    "collapsed": true
   },
   "outputs": [],
   "source": [
    "import pandas as pd\n",
    "import numpy as np\n",
    "import math,copy,os\n",
    "from sklearn.linear_model import LogisticRegression\n",
    "from sklearn.ensemble import RandomForestClassifier\n",
    "from sklearn.svm import SVC\n",
    "from sklearn.model_selection import train_test_split\n",
    "from sklearn.preprocessing import MinMaxScaler\n",
    "from sklearn.neural_network import MLPClassifier\n",
    "from pathlib import Path\n",
    "from Measure import measure_final_score\n",
    "import statistics\n",
    "from CatEncoder import *\n",
    "import glob\n",
    "import pickle"
   ]
  },
  {
   "cell_type": "markdown",
   "source": [
    "Analyse original scores"
   ],
   "metadata": {
    "collapsed": false
   }
  },
  {
   "cell_type": "code",
   "execution_count": 2,
   "outputs": [],
   "source": [
    "def get_results():\n",
    "    path = r'/Users/germainherbay/PycharmProjects/Blind/adult/score/directed/original_scores/' # use your path\n",
    "    all_files = glob.glob(path + \"/*.csv\")\n",
    "    first_df = pd.read_csv(all_files[0])\n",
    "    for filename in all_files[1:]:\n",
    "        df = pd.read_csv(filename)\n",
    "        first_df = first_df.append(df)\n",
    "    first_df['model'] = first_df['model'].replace(['LogisticRegression()','RandomForestClassifier()', 'SVC()', 'MLPClassifier()'],['LR','RF','SVC', 'MLPC'])\n",
    "    first_df.rename(columns = {'protected_att':'PA'}, inplace = True)\n",
    "    return first_df\n",
    "\n",
    "def get_results_PA(PA):\n",
    "    df = get_results()\n",
    "    return df[(df[\"PA\"] == PA)]\n"
   ],
   "metadata": {
    "collapsed": false,
    "pycharm": {
     "name": "#%%\n"
    }
   }
  },
  {
   "cell_type": "code",
   "execution_count": 3,
   "outputs": [
    {
     "name": "stdout",
     "output_type": "stream",
     "text": [
      "      recall       accuracy      precision         eod         SPD      \n",
      "        mean   std     mean  std      mean   std  mean   std  mean   std\n",
      "model                                                                   \n",
      "LR      0.56  0.00     0.84  0.0      0.72  0.00  0.23  0.00  0.21  0.00\n",
      "MLPC    0.59  0.02     0.85  0.0      0.75  0.01  0.10  0.02  0.18  0.01\n",
      "RF      0.59  0.00     0.83  0.0      0.70  0.01  0.07  0.01  0.18  0.00\n",
      "SVC     0.56  0.00     0.85  0.0      0.76  0.00  0.13  0.00  0.18  0.00\n"
     ]
    }
   ],
   "source": [
    "df = get_results()\n",
    "baseline = df.groupby(\"model\").agg([np.mean, np.std])\n",
    "print(np.round(baseline, 2))"
   ],
   "metadata": {
    "collapsed": false,
    "pycharm": {
     "name": "#%%\n"
    }
   }
  },
  {
   "cell_type": "code",
   "execution_count": 4,
   "outputs": [
    {
     "name": "stdout",
     "output_type": "stream",
     "text": [
      "      recall       accuracy      precision         eod         SPD      \n",
      "        mean   std     mean  std      mean   std  mean   std  mean   std\n",
      "model                                                                   \n",
      "LR      0.56  0.00     0.84  0.0      0.72  0.00  0.23  0.00  0.21  0.00\n",
      "MLPC    0.59  0.02     0.85  0.0      0.75  0.01  0.10  0.02  0.18  0.01\n",
      "RF      0.59  0.00     0.83  0.0      0.70  0.01  0.07  0.01  0.18  0.00\n",
      "SVC     0.56  0.00     0.85  0.0      0.76  0.00  0.13  0.00  0.18  0.00\n"
     ]
    }
   ],
   "source": [
    "df = get_results_PA(\"sex\")\n",
    "baseline = df.groupby(\"model\").agg([np.mean, np.std])\n",
    "print(np.round(baseline, 2))\n",
    "\n",
    "\n",
    "\n"
   ],
   "metadata": {
    "collapsed": false,
    "pycharm": {
     "name": "#%%\n"
    }
   }
  }
 ],
 "metadata": {
  "kernelspec": {
   "display_name": "Python 3",
   "language": "python",
   "name": "python3"
  },
  "language_info": {
   "codemirror_mode": {
    "name": "ipython",
    "version": 2
   },
   "file_extension": ".py",
   "mimetype": "text/x-python",
   "name": "python",
   "nbconvert_exporter": "python",
   "pygments_lexer": "ipython2",
   "version": "2.7.6"
  }
 },
 "nbformat": 4,
 "nbformat_minor": 0
}